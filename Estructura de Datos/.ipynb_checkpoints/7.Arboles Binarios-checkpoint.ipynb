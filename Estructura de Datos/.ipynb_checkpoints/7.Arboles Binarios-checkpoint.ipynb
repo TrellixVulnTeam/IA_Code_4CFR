{
 "cells": [
  {
   "cell_type": "markdown",
   "metadata": {},
   "source": [
    "# Arboles Binarios"
   ]
  },
  {
   "cell_type": "markdown",
   "metadata": {},
   "source": [
    "## Ejemplo 0 "
   ]
  },
  {
   "cell_type": "code",
   "execution_count": 1,
   "metadata": {},
   "outputs": [],
   "source": [
    "# Implementacion de Nodo\n",
    "class Nodo():\n",
    "    \n",
    "    def __init__(self, Data = None, Parent = None, Is_Root = False, Is_Left = False, Is_Right = False):\n",
    "        self.Data = Data\n",
    "        self.Parent = Parent\n",
    "        self.Left = None\n",
    "        self.Right = None\n",
    "        self.Is_Left = Is.Left\n",
    "        self.Is_Right = Is.Right\n",
    "        self.Is_Root = Is.Root"
   ]
  },
  {
   "cell_type": "code",
   "execution_count": null,
   "metadata": {},
   "outputs": [],
   "source": [
    "class ArbolDeBusquedaBinario():\n",
    "    \n",
    "    def __init__(self):\n",
    "        self.Root = None\n",
    "        \n",
    "    def Empty(self):\n",
    "        if self.Root == None:\n",
    "            return True\n",
    "        else:\n",
    "            return False\n",
    "        \n",
    "    def Add(self, ):"
   ]
  },
  {
   "cell_type": "code",
   "execution_count": null,
   "metadata": {},
   "outputs": [],
   "source": []
  }
 ],
 "metadata": {
  "kernelspec": {
   "display_name": "Python 3",
   "language": "python",
   "name": "python3"
  },
  "language_info": {
   "codemirror_mode": {
    "name": "ipython",
    "version": 3
   },
   "file_extension": ".py",
   "mimetype": "text/x-python",
   "name": "python",
   "nbconvert_exporter": "python",
   "pygments_lexer": "ipython3",
   "version": "3.7.6"
  }
 },
 "nbformat": 4,
 "nbformat_minor": 4
}
