{
  "nbformat": 4,
  "nbformat_minor": 0,
  "metadata": {
    "colab": {
      "name": "Mecanismos de Atencion.ipynb",
      "provenance": [],
      "collapsed_sections": [],
      "authorship_tag": "ABX9TyN9m8vIZpeWe4w8dW1zR2U6",
      "include_colab_link": true
    },
    "kernelspec": {
      "name": "python3",
      "display_name": "Python 3"
    },
    "language_info": {
      "name": "python"
    },
    "accelerator": "GPU"
  },
  "cells": [
    {
      "cell_type": "markdown",
      "metadata": {
        "id": "view-in-github",
        "colab_type": "text"
      },
      "source": [
        "<a href=\"https://colab.research.google.com/github/Zelechos/IA_Code/blob/master/Lab10/Mecanismos_de_Atencion.ipynb\" target=\"_parent\"><img src=\"https://colab.research.google.com/assets/colab-badge.svg\" alt=\"Open In Colab\"/></a>"
      ]
    },
    {
      "cell_type": "markdown",
      "metadata": {
        "id": "cByAQ2mV7F7S"
      },
      "source": [
        ""
      ]
    },
    {
      "cell_type": "markdown",
      "metadata": {
        "id": "diagnostic-gibraltar"
      },
      "source": [
        "# Transformers - Mecanismos de Atención"
      ]
    },
    {
      "cell_type": "markdown",
      "metadata": {
        "id": "decreased-providence"
      },
      "source": [
        "### *Hard attention*"
      ]
    },
    {
      "cell_type": "markdown",
      "metadata": {
        "id": "ol5nueq27bJQ"
      },
      "source": [
        "#### Crearemos un conjunto de vectores y nos tiene que dar como resultado otro conjunto de vectores en este caso los outputs seran identicos a los inputs y estos prestaran atencion a sus inputs\n"
      ]
    },
    {
      "cell_type": "code",
      "metadata": {
        "ExecuteTime": {
          "end_time": "2021-03-24T08:12:14.858427Z",
          "start_time": "2021-03-24T08:12:14.420511Z"
        },
        "id": "allied-laundry"
      },
      "source": [
        "import numpy as np\n",
        "import torch\n",
        "import matplotlib.pyplot as plt\n",
        "import numpy as np"
      ],
      "execution_count": 2,
      "outputs": []
    },
    {
      "cell_type": "code",
      "metadata": {
        "colab": {
          "base_uri": "https://localhost:8080/"
        },
        "id": "J5Dgimho8dj1",
        "outputId": "81ac2802-4349-48da-d222-f111504d73b5"
      },
      "source": [
        "# Creamos nuestro tensor que nos servira como input\n",
        "X = torch.tensor([[3, 0],[0, 3], [-1, -1]])\n",
        "X"
      ],
      "execution_count": 20,
      "outputs": [
        {
          "output_type": "execute_result",
          "data": {
            "text/plain": [
              "tensor([[ 3,  0],\n",
              "        [ 0,  3],\n",
              "        [-1, -1]])"
            ]
          },
          "metadata": {
            "tags": []
          },
          "execution_count": 20
        }
      ]
    },
    {
      "cell_type": "code",
      "metadata": {
        "colab": {
          "base_uri": "https://localhost:8080/",
          "height": 265
        },
        "id": "FKEVv0NG8diF",
        "outputId": "9e7e5325-64df-43fe-fc67-b64cc84863f4"
      },
      "source": [
        "# Ploteamos nuestro tensor\n",
        "def plot_vectors(X, y=None):\n",
        "    ax = plt.axes()\n",
        "    plt.grid()\n",
        "    for x in X:\n",
        "        ax.arrow(0, 0, x[0], x[1], head_width=0.2, head_length=0.2, color=\"green\")\n",
        "    if y is not None:\n",
        "        for _y in y:\n",
        "            if _y.sum() != 0:\n",
        "                ax.arrow(0, 0, _y[0], _y[1], head_width=0.1, head_length=0.1, color='red')\n",
        "    plt.xlim(-2,3.5)\n",
        "    plt.ylim(-2,3.5)\n",
        "    plt.show()\n",
        "\n",
        "plot_vectors(X)"
      ],
      "execution_count": 26,
      "outputs": [
        {
          "output_type": "display_data",
          "data": {
            "image/png": "[encoded data removed]",
            "text/plain": [
              "<Figure size 432x288 with 1 Axes>"
            ]
          },
          "metadata": {
            "tags": [],
            "needs_background": "light"
          }
        }
      ]
    },
    {
      "cell_type": "code",
      "metadata": {
        "colab": {
          "base_uri": "https://localhost:8080/"
        },
        "id": "PLtc1jZr-Jh0",
        "outputId": "fce94d55-d07a-4b3f-bc22-ac95461aef39"
      },
      "source": [
        "# hard attention (a es one hot)\n",
        "# Creamos nuestro vector atencion al primer vector \n",
        "Vector_atencion = torch.tensor([1, 0, 0])\n",
        "Vector_atencion"
      ],
      "execution_count": 31,
      "outputs": [
        {
          "output_type": "execute_result",
          "data": {
            "text/plain": [
              "tensor([1, 0, 0])"
            ]
          },
          "metadata": {
            "tags": []
          },
          "execution_count": 31
        }
      ]
    },
    {
      "cell_type": "markdown",
      "metadata": {
        "id": "premier-graphics"
      },
      "source": [
        "Para aplicar nuestro mecanismo de atención, simplemente multiplicamos nuestro conjunto de vectores por el vector de atención."
      ]
    },
    {
      "cell_type": "code",
      "metadata": {
        "colab": {
          "base_uri": "https://localhost:8080/"
        },
        "id": "KGVFW8hS-sfn",
        "outputId": "56aa5e56-1330-465f-bfba-64abbbb0c77d"
      },
      "source": [
        "# todos los vectores en la salida son 0, excepto al que hemos prestado atención\n",
        "#Aplicamos nuestro mecanismo de atencion\n",
        "y = Vector_atencion.unsqueeze(1) * X\n",
        "y"
      ],
      "execution_count": 29,
      "outputs": [
        {
          "output_type": "execute_result",
          "data": {
            "text/plain": [
              "tensor([[3, 0],\n",
              "        [0, 0],\n",
              "        [0, 0]])"
            ]
          },
          "metadata": {
            "tags": []
          },
          "execution_count": 29
        }
      ]
    },
    {
      "cell_type": "markdown",
      "metadata": {
        "id": "lyUjjbPM_IaD"
      },
      "source": [
        "#### Como podemos ver se marca de rojo al vector que le hemos prestado atencion"
      ]
    },
    {
      "cell_type": "code",
      "metadata": {
        "ExecuteTime": {
          "end_time": "2021-03-24T08:14:42.621293Z",
          "start_time": "2021-03-24T08:14:42.475282Z"
        },
        "id": "advisory-jerusalem",
        "colab": {
          "base_uri": "https://localhost:8080/",
          "height": 265
        },
        "outputId": "290c6ce1-84ba-4c6b-a1a7-fb703a6b60db"
      },
      "source": [
        "plot_vectors(X, y)"
      ],
      "execution_count": 30,
      "outputs": [
        {
          "output_type": "display_data",
          "data": {
            "image/png": "[encoded data removed]",
            "text/plain": [
              "<Figure size 432x288 with 1 Axes>"
            ]
          },
          "metadata": {
            "tags": [],
            "needs_background": "light"
          }
        }
      ]
    },
    {
      "cell_type": "markdown",
      "metadata": {
        "id": "enhanced-winner"
      },
      "source": [
        "Podemos aplicar este mecanismo en una sola operación a todos los vectores generando una matriz de atención. En el caso de *hard attention*, esta matriz es la identidad."
      ]
    },
    {
      "cell_type": "code",
      "metadata": {
        "colab": {
          "base_uri": "https://localhost:8080/"
        },
        "id": "dN7yHj3v_QQJ",
        "outputId": "03bf2d1e-ab7d-4009-ae8d-6c05cb22bb3b"
      },
      "source": [
        "# Creamos nuestro matriz de Atencion  \n",
        "Matriz_Atencion = torch.eye(3)\n",
        "print(Matriz_Atencion)\n",
        "\n",
        "# Creamos una matriz de inputs\n",
        "Matriz_Inputs = torch.tensor([[3, 0],[0,3], [-1.5, -1.5]])\n",
        "print(Matriz_Inputs)"
      ],
      "execution_count": 68,
      "outputs": [
        {
          "output_type": "stream",
          "text": [
            "tensor([[1., 0., 0.],\n",
            "        [0., 1., 0.],\n",
            "        [0., 0., 1.]])\n",
            "tensor([[ 3.0000,  0.0000],\n",
            "        [ 0.0000,  3.0000],\n",
            "        [-1.5000, -1.5000]])\n"
          ],
          "name": "stdout"
        }
      ]
    },
    {
      "cell_type": "markdown",
      "metadata": {
        "id": "extended-begin"
      },
      "source": [
        "Multiplicando nuestra matriz de atención por la matriz que contiene todos los vectores de entrada, obtenemos los vectores de salida. En este caso, repetimos, obtendremos exactamente el mismo conjunto de vectores ya que cada vector a la salida atiene únicamente a un vector a la entrada, aquel que está en su misma posición. "
      ]
    },
    {
      "cell_type": "code",
      "metadata": {
        "colab": {
          "base_uri": "https://localhost:8080/"
        },
        "id": "l6nL3MPm_tkL",
        "outputId": "673de5c4-1595-45ad-846e-9a13212fa9f6"
      },
      "source": [
        "Y = Matriz_Atencion @ Matriz_Inputs\n",
        "Y"
      ],
      "execution_count": 69,
      "outputs": [
        {
          "output_type": "execute_result",
          "data": {
            "text/plain": [
              "tensor([[ 3.0000,  0.0000],\n",
              "        [ 0.0000,  3.0000],\n",
              "        [-1.5000, -1.5000]])"
            ]
          },
          "metadata": {
            "tags": []
          },
          "execution_count": 69
        }
      ]
    },
    {
      "cell_type": "code",
      "metadata": {
        "id": "4rb41gYNAwL4"
      },
      "source": [
        "# Ploteamos nuestras matrices\n",
        "def plot(X, Y):\n",
        "    fig = plt.figure(figsize=(15,4))\n",
        "    for i, (x, y) in enumerate(zip(X, Y)):\n",
        "      ax = plt.subplot(1, 3, i + 1)\n",
        "      for x in X:\n",
        "          ax.arrow(0, 0, x[0], x[1], head_width=0.3, color=\"green\", head_length=0.3)\n",
        "      ax.arrow(0, 0, y[0], y[1], head_width=0.3, head_length=0.3, color='red')\n",
        "      ax.set_xlim(-2,4.5)\n",
        "      ax.set_ylim(-2,4.5)\n",
        "      ax.grid(True)\n",
        "      ax.set_title(f\"Atiende a {X[i].tolist()}\")\n",
        "    plt.tight_layout()\n",
        "    plt.show()"
      ],
      "execution_count": 76,
      "outputs": []
    },
    {
      "cell_type": "code",
      "metadata": {
        "colab": {
          "base_uri": "https://localhost:8080/",
          "height": 297
        },
        "id": "awzrpVkmAw7f",
        "outputId": "53171101-7afa-4b36-da6f-155f8256b128"
      },
      "source": [
        "plot(Matriz_Inputs,Y)"
      ],
      "execution_count": 77,
      "outputs": [
        {
          "output_type": "display_data",
          "data": {
            "image/png": "[encoded data removed]",
            "text/plain": [
              "<Figure size 1080x288 with 3 Axes>"
            ]
          },
          "metadata": {
            "tags": [],
            "needs_background": "light"
          }
        }
      ]
    },
    {
      "cell_type": "markdown",
      "metadata": {
        "id": "neural-basin"
      },
      "source": [
        "## *Soft attention*"
      ]
    },
    {
      "cell_type": "markdown",
      "metadata": {
        "id": "03pGkNthC9Uk"
      },
      "source": [
        "#### cada vector generado será una combinación de los *inputs*. En el siguiente ejemplo, cada vector generado presta un 70% de atención al vector en la entrada en su misma posición y un 15% al resto."
      ]
    },
    {
      "cell_type": "code",
      "metadata": {
        "colab": {
          "base_uri": "https://localhost:8080/"
        },
        "id": "BaoNLYhhDHn8",
        "outputId": "cdc95b70-d9d6-478b-b343-4c2367cefac3"
      },
      "source": [
        "# soft attention (cada fila suma 1)\n",
        "\n",
        "Matriz_Atencion = torch.ones((3, 3))*0.15\n",
        "Matriz_Atencion.fill_diagonal_(0.70)\n",
        "Matriz_Atencion"
      ],
      "execution_count": 82,
      "outputs": [
        {
          "output_type": "execute_result",
          "data": {
            "text/plain": [
              "tensor([[0.7000, 0.1500, 0.1500],\n",
              "        [0.1500, 0.7000, 0.1500],\n",
              "        [0.1500, 0.1500, 0.7000]])"
            ]
          },
          "metadata": {
            "tags": []
          },
          "execution_count": 82
        }
      ]
    },
    {
      "cell_type": "code",
      "metadata": {
        "colab": {
          "base_uri": "https://localhost:8080/"
        },
        "id": "xLYPhMghD-tR",
        "outputId": "847bcc13-b4d7-4e9f-c51e-fd0a2f3c0c21"
      },
      "source": [
        "Y = Matriz_Atencion @ Matriz_Inputs\n",
        "Y"
      ],
      "execution_count": 83,
      "outputs": [
        {
          "output_type": "execute_result",
          "data": {
            "text/plain": [
              "tensor([[ 1.8750,  0.2250],\n",
              "        [ 0.2250,  1.8750],\n",
              "        [-0.6000, -0.6000]])"
            ]
          },
          "metadata": {
            "tags": []
          },
          "execution_count": 83
        }
      ]
    },
    {
      "cell_type": "code",
      "metadata": {
        "id": "0PoCRGu0ENah"
      },
      "source": [
        "def plot1(X, Y):\n",
        "    fig = plt.figure(figsize=(15,4))\n",
        "    for i, (x, y) in enumerate(zip(X, Y)):\n",
        "      ax = plt.subplot(1, 3, i + 1)\n",
        "      for x in X:\n",
        "          ax.arrow(0, 0, x[0], x[1], color=\"blue\", head_width=0.2, head_length=0.2)\n",
        "      Z = A[i].unsqueeze(1) * X\n",
        "      for z in Z:\n",
        "        ax.arrow(0, 0, z[0], z[1], head_width=0.2, head_length=0.2, color='green')\n",
        "      ax.arrow(0, 0, y[0], y[1], head_width=0.2, head_length=0.2, color='red')\n",
        "      ax.set_xlim(-2.5,4.5)\n",
        "      ax.set_ylim(-2.5,4.5)\n",
        "      ax.grid(True)\n",
        "      ax.set_title(f\"Atiende a {X[i].tolist()}\")\n",
        "    plt.tight_layout()\n",
        "    plt.show()"
      ],
      "execution_count": 115,
      "outputs": []
    },
    {
      "cell_type": "code",
      "metadata": {
        "colab": {
          "base_uri": "https://localhost:8080/",
          "height": 297
        },
        "id": "J1mpJ45WEOYy",
        "outputId": "62ba3b36-fa77-4479-c6b7-fbec7638801c"
      },
      "source": [
        "plot1(Matriz_Inputs, Y)"
      ],
      "execution_count": 116,
      "outputs": [
        {
          "output_type": "display_data",
          "data": {
            "image/png": "[encoded data removed]",
            "text/plain": [
              "<Figure size 1080x288 with 3 Axes>"
            ]
          },
          "metadata": {
            "tags": [],
            "needs_background": "light"
          }
        }
      ]
    },
    {
      "cell_type": "code",
      "metadata": {
        "id": "F2qMwh8-EP8h"
      },
      "source": [
        ""
      ],
      "execution_count": null,
      "outputs": []
    }
  ]
}