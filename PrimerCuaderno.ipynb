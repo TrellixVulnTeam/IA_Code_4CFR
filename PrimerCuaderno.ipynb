{
  "nbformat": 4,
  "nbformat_minor": 0,
  "metadata": {
    "colab": {
      "name": "PrimerCuaderno.ipynb",
      "provenance": [],
      "authorship_tag": "ABX9TyPYe7JbzgSQKvW4wd1UOt9+",
      "include_colab_link": true
    },
    "kernelspec": {
      "name": "python3",
      "display_name": "Python 3"
    },
    "language_info": {
      "name": "python"
    }
  },
  "cells": [
    {
      "cell_type": "markdown",
      "metadata": {
        "id": "view-in-github",
        "colab_type": "text"
      },
      "source": [
        "<a href=\"https://colab.research.google.com/github/Zelechos/IA_Code/blob/master/PrimerCuaderno.ipynb\" target=\"_parent\"><img src=\"https://colab.research.google.com/assets/colab-badge.svg\" alt=\"Open In Colab\"/></a>"
      ]
    },
    {
      "cell_type": "code",
      "metadata": {
        "colab": {
          "base_uri": "https://localhost:8080/"
        },
        "id": "SuX0m8lvn_wl",
        "outputId": "62d98c35-62c2-456f-a0eb-f45910657126"
      },
      "source": [
        "print(\"primer cuaderno en colab\")"
      ],
      "execution_count": 1,
      "outputs": [
        {
          "output_type": "stream",
          "text": [
            "primer cuaderno en colab\n"
          ],
          "name": "stdout"
        }
      ]
    }
  ]
}