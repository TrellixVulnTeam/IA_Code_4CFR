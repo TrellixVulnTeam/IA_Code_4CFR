{
 "cells": [
  {
   "cell_type": "markdown",
   "metadata": {},
   "source": [
    "# Recursividad\n",
    "### By Alex Tumiri Huanca"
   ]
  },
  {
   "cell_type": "markdown",
   "metadata": {},
   "source": [
    "## ¿Que es la Recursividad?\n",
    "#### La recursividad es una técnica muy empleada en la programación informática y consiste en que una función se llame a sí misma. \n",
    "\n",
    "## ¡Y NADA MAS QUE ESO AHORA A LA PRACTICA!"
   ]
  },
  {
   "cell_type": "markdown",
   "metadata": {},
   "source": [
    "### Ejercicio 1\n",
    "\n",
    "#### Hallar el Factorial de un Numero introducido por teclado (Aplicando Recursividad)"
   ]
  },
  {
   "cell_type": "code",
   "execution_count": 33,
   "metadata": {},
   "outputs": [
    {
     "name": "stdout",
     "output_type": "stream",
     "text": [
      "Digite un Numero para hallar su Factorial : -9\n",
      "El Factorial de -9 es :  -362880\n",
      "Fin del Programa . . .\n"
     ]
    }
   ],
   "source": [
    "Numero = int(input(\"Digite un Numero para hallar su Factorial : \"))\n",
    "NumeroVerificador = Numero\n",
    "\n",
    "#Nuestra Funcion Recursiva solo funciona para numeros positivos por eso primero verificaremos el numero \n",
    "def Verificador(Numero):\n",
    "    if Numero < 0 :\n",
    "        NumeroFinal = Numero*-1\n",
    "        return NumeroFinal\n",
    "    else:\n",
    "        return Numero\n",
    "\n",
    "NumeroFactorial = Verificador(Numero)\n",
    "\n",
    "#Aplicando Recursividad\n",
    "def Factorial(NumeroFactorial):\n",
    "    \n",
    "    if NumeroFactorial == 0 or NumeroFactorial == 1:\n",
    "        return 1\n",
    "    else:\n",
    "        return NumeroFactorial * Factorial(NumeroFactorial-1)  #Aqui la Funcion se LLama asi misma\n",
    "\n",
    "\n",
    "def VerificadorFinal(NumeroVerificador):\n",
    "    \n",
    "    if NumeroVerificador < 0:\n",
    "        FacetorialNumero = Factorial(NumeroFactorial)*-1\n",
    "        return FacetorialNumero\n",
    "    else : \n",
    "        FacetorialNumero = Factorial(NumeroFactorial)\n",
    "        return FacetorialNumero\n",
    "\n",
    "Respuesta = VerificadorFinal(Numero)\n",
    "    \n",
    "print(\"El Factorial de\",NumeroVerificador,\"es : \",Respuesta)\n",
    "print(\"Fin del Programa . . .\")"
   ]
  },
  {
   "cell_type": "markdown",
   "metadata": {},
   "source": [
    "### Ejercicio 2\n",
    "\n",
    "#### Mostrar la siguiente sucesion de Numeros  $S = 3+6+4+7+5+8 .... $ para n Numeros y mostrar el Resultado (Aplicando Recursividad)"
   ]
  },
  {
   "cell_type": "code",
   "execution_count": 39,
   "metadata": {},
   "outputs": [
    {
     "name": "stdout",
     "output_type": "stream",
     "text": [
      "Digita la Cantidad de Numeros que sumara : 9\n",
      "3 + 6 + 4 + 7 + 5 + 8 + 6 + 9 + 7 = 55\n"
     ]
    }
   ],
   "source": [
    "Numero = int(input(\"Digita la Cantidad de Numeros que sumara : \"))\n",
    "\n",
    "NumeroInicial = 3             \n",
    "Respuesta = 3\n",
    "Switch = 0\n",
    "Suma = 0\n",
    "\n",
    "def Mostrador(Numero, NumeroInicial , Respuesta , Switch , Suma):#respetar el orden al llamar los argumento en la recusividad\n",
    "    if Numero > 0:\n",
    "        \n",
    "        if Switch == 0:\n",
    "            \n",
    "            if Numero != 1:\n",
    "                print (Respuesta, end=\" + \")\n",
    "            else : \n",
    "                print(Respuesta, end =\" = \")\n",
    "                \n",
    "            Suma +=Respuesta\n",
    "            Respuesta+=NumeroInicial\n",
    "            NumeroInicial-=1\n",
    "            Switch+=1\n",
    "            \n",
    "            return Mostrador(Numero-1 , NumeroInicial , Respuesta , Switch , Suma)#Aplicando Recusividad\n",
    "        \n",
    "        else:\n",
    "            \n",
    "            if Numero != 1:\n",
    "                print (Respuesta, end=\" + \")\n",
    "            else:\n",
    "                print(Respuesta,end=\" = \")\n",
    "                \n",
    "            Suma +=Respuesta\n",
    "            Respuesta-=NumeroInicial\n",
    "            NumeroInicial+=1\n",
    "            Switch-=1\n",
    "            \n",
    "            return Mostrador(Numero-1 , NumeroInicial , Respuesta , Switch ,Suma)#Aplicando Recursividad\n",
    "        \n",
    "    return Suma\n",
    "\n",
    "print(Mostrador(Numero, NumeroInicial ,Respuesta ,Switch,Suma))\n",
    "                      "
   ]
  },
  {
   "cell_type": "markdown",
   "metadata": {},
   "source": [
    "### Ejercicio 3\n",
    "#### Introducir un Numero y que muestre el que Numero Corresponde de la Sucesion Fibonacii (Aplicando Recursividad)"
   ]
  },
  {
   "cell_type": "code",
   "execution_count": 3,
   "metadata": {},
   "outputs": [
    {
     "name": "stdout",
     "output_type": "stream",
     "text": [
      "Digite que numero desea ver de la Famosa Sucesion Fibonacci : 35\n",
      "El Numero de la Sucesion Fibonacci que Corresponde a su Numero es :  9227465\n"
     ]
    }
   ],
   "source": [
    "Numero = int(input(\"Digite que numero desea ver de la Famosa Sucesion Fibonacci : \"))\n",
    "\n",
    "def Fibonacci(Numero):\n",
    "    \n",
    "    if Numero == 0:\n",
    "        return 0\n",
    "    elif Numero == 1 or Numero == 2:\n",
    "        return 1\n",
    "    else:\n",
    "        return Fibonacci(Numero-1)+Fibonacci(Numero-2)# Aplicando Recursividad\n",
    "\n",
    "Respuesta = Fibonacci(Numero)\n",
    "\n",
    "print(\"El Numero de la Sucesion Fibonacci que Corresponde a su Numero es : \",Respuesta)"
   ]
  },
  {
   "cell_type": "markdown",
   "metadata": {},
   "source": [
    "### Ejercicio 4\n",
    "#### Mostrar la siguiente sucesion y mostrar su resultado:\n",
    "$ N^{N}+9^{1}+8^{2}+7^{3}+6^{4}+5^{5}+4^{6}+3^{7}+2^{8}+1^{9}+N^{N}=11377$"
   ]
  },
  {
   "cell_type": "code",
   "execution_count": 4,
   "metadata": {},
   "outputs": [
    {
     "name": "stdout",
     "output_type": "stream",
     "text": [
      "Digite el numero de Elementos que tendra la sucesion : 9\n",
      "[ 9 ^ 1 ] + [ 8 ^ 2 ] + [ 7 ^ 3 ] + [ 6 ^ 4 ] + [ 5 ^ 5 ] + [ 4 ^ 6 ] + [ 3 ^ 7 ] + [ 2 ^ 8 ] + [ 1 ^ 9 ] = 11377\n"
     ]
    }
   ],
   "source": [
    "Numero = int(input(\"Digite el numero de Elementos que tendra la sucesion : \"))\n",
    "\n",
    "Contador = 1\n",
    "Suma = 0\n",
    "\n",
    "def Sucesion(Numero,Contador,Suma):\n",
    "    \n",
    "    if Numero > 0:\n",
    "        Suma += (Numero**Contador)\n",
    "        if Numero != 1:\n",
    "            print(\"[\",Numero,\"^\",Contador,\"]\",end=\" + \")\n",
    "        else:\n",
    "            print(\"[\",Numero,\"^\",Contador,\"]\",end=\" = \")\n",
    "\n",
    "        return Sucesion(Numero-1,Contador+1,Suma)\n",
    "    else:\n",
    "        return Suma\n",
    "\n",
    "Respuesta = Sucesion(Numero,Contador,Suma)\n",
    "\n",
    "print(Respuesta)    "
   ]
  },
  {
   "cell_type": "markdown",
   "metadata": {},
   "source": [
    "### Ejercicio 5\n",
    "#### Representar la siguiente sucesion y mostrar su Resultado:\n",
    "$ 4^{0}+9^{1}+6^{1}+11^{2}+8^{3}+13^{5}+10^{8}+N^{N}= 100371942$"
   ]
  },
  {
   "cell_type": "code",
   "execution_count": null,
   "metadata": {},
   "outputs": [],
   "source": [
    "N = int(input(\"Digite el numero de elementos que tendra la Sucesion : \"))\n",
    "fibo =0\n",
    "fibo1=0\n",
    "num = 4\n",
    "suma = 0\n",
    "switch=0\n",
    "posi=0\n",
    "lista =[]\n",
    "def Fibonacci(lista,N,posi,fibo,fibo1):\n",
    "    while(N>0):\n",
    "        if fibo == 0:\n",
    "            lista.append(fibo)\n",
    "            fibo+=1  \n",
    "            N-=1\n",
    "        else:\n",
    "            lista.append(fibo)# para 5 aqui se hacer 4\n",
    "            posi=fibo         # 1<-1  , 1<-1  , 2<-2  , 3<-3            \n",
    "            fibo = fibo+fibo1 # 1=1+0 , 2=1+1 , 3=2+1 , 5=3+2\n",
    "            fibo1=posi        # 1<-1  , 1<-1  , 2<-2  , 3<-3\n",
    "            N-=1\n",
    "\n",
    "    return lista \n",
    "\n",
    "\n",
    "Lista = Fibonacci(lista,N,posi,fibo,fibo1)       \n",
    "\n",
    "pos=0\n",
    "def Sucesion(pos,Lista,num,suma,N,switch):\n",
    "    if N > 0:\n",
    "        if switch == 0:\n",
    "            \n",
    "            suma+=(num**Lista[pos])\n",
    "            if N!=1:\n",
    "                print(\"[\",num,\"^\",Lista[pos],\"]\",end=\" + \")\n",
    "            else:\n",
    "                print(\"[\",num,\"^\",Lista[pos],\"]\",end=\" = \")\n",
    "\n",
    "            return Sucesion(pos+1,Lista,num+5,suma,N-1,switch+1)\n",
    "        \n",
    "        else:\n",
    "            suma+=(num**Lista[pos])\n",
    "            if N!=1:\n",
    "                print(\"[\",num,\"^\",Lista[pos],\"]\",end=\" + \")\n",
    "            else:\n",
    "                print(\"[\",num,\"^\",Lista[pos],\"]\",end=\" = \")\n",
    "                \n",
    "            return Sucesion(pos+1,Lista,num-3,suma,N-1,switch-1)\n",
    "        \n",
    "    return suma\n",
    "\n",
    "print(Sucesion(pos,Lista,num,suma,N,switch))\n"
   ]
  }
 ],
 "metadata": {
  "kernelspec": {
   "display_name": "Python 3",
   "language": "python",
   "name": "python3"
  },
  "language_info": {
   "codemirror_mode": {
    "name": "ipython",
    "version": 3
   },
   "file_extension": ".py",
   "mimetype": "text/x-python",
   "name": "python",
   "nbconvert_exporter": "python",
   "pygments_lexer": "ipython3",
   "version": "3.7.4"
  }
 },
 "nbformat": 4,
 "nbformat_minor": 2
}
