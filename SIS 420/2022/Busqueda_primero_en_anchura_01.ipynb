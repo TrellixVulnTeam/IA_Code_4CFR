{
  "nbformat": 4,
  "nbformat_minor": 0,
  "metadata": {
    "colab": {
      "name": "Busqueda_primero_en_anchura_01.ipynb",
      "provenance": [],
      "collapsed_sections": []
    },
    "kernelspec": {
      "name": "python3",
      "display_name": "Python 3"
    },
    "language_info": {
      "name": "python"
    }
  },
  "cells": [
    {
      "cell_type": "code",
      "execution_count": null,
      "metadata": {
        "colab": {
          "base_uri": "https://localhost:8080/"
        },
        "id": "mEs6mnYIegWA",
        "outputId": "94b07d0f-f039-446c-a1f0-8f1053ab5637"
      },
      "outputs": [
        {
          "output_type": "stream",
          "name": "stdout",
          "text": [
            "Mounted at /content/gdrive/\n"
          ]
        }
      ],
      "source": [
        "from google.colab import drive\n",
        "drive.mount('/content/gdrive/')"
      ]
    },
    {
      "cell_type": "code",
      "source": [
        "import sys\n",
        "sys.path.append('/content/gdrive/MyDrive/Colab Notebooks/SIS420/Busquedas')\n",
        "\n",
        "from Nodos import Nodo"
      ],
      "metadata": {
        "id": "8MzZ7atMhWHV"
      },
      "execution_count": null,
      "outputs": []
    },
    {
      "cell_type": "code",
      "source": [
        "class Nodo:            # r1      reyna\n",
        "    def __init__(self, estado, hijo=None):\n",
        "        self.estado = estado\n",
        "        self.hijo = None\n",
        "        self.padre = None\n",
        "        self.accion = None\n",
        "        self.acciones = None\n",
        "        self.costo = None\n",
        "        self.set_hijo(hijo)\n",
        "\n",
        "    def set_estado(self, estado):# R1\n",
        "        self.estado = estado\n",
        "\n",
        "    def get_estado(self):\n",
        "        return self.estado\n",
        "\n",
        "    def set_hijo(self, hijo):\n",
        "        self.hijo = hijo\n",
        "        if self.hijo is not None:\n",
        "            for s in self.hijo:\n",
        "                s.padre = self\n",
        "\n",
        "    def get_hijo(self):\n",
        "        return self.hijo\n",
        "    \n",
        "    def set_padre(self, padre):\n",
        "        self.padre = padre\n",
        "\n",
        "    def get_padre(self):\n",
        "        return self.padre\n",
        "    \n",
        "    def set_accion(self, accion):\n",
        "        self.padre = accion\n",
        "\n",
        "    def get_accion(self):\n",
        "        return self.accion\n",
        "\n",
        "    def set_acciones(self, acciones):\n",
        "        self.acciones = acciones\n",
        "\n",
        "    def get_acciones(self):\n",
        "        return self.acciones\n",
        "\n",
        "    def set_costo(self, costo):\n",
        "        self.costo = costo\n",
        "\n",
        "    def get_costo(self):\n",
        "        return self.costo\n",
        "\n",
        "    def equal(self, Nodo):\n",
        "        if self.get_estado() == Nodo.get_estado():\n",
        "            return True\n",
        "        else:\n",
        "            return False\n",
        "\n",
        "    def en_lista(self, lista_nodos):\n",
        "        enlistado = False\n",
        "        for n in lista_nodos:\n",
        "            if self.equal(n):\n",
        "                enlistado = True\n",
        "        return enlistado\n",
        "\n",
        "    def __str__(self):\n",
        "        return str(self.get_estado())\n"
      ],
      "metadata": {
        "id": "OXi2EsfZMoNh"
      },
      "execution_count": 2,
      "outputs": []
    },
    {
      "cell_type": "code",
      "source": [
        "reyna = Nodo(\"R1\")\n",
        "print(reyna)\n",
        "\n",
        "# estados\n",
        "print(reyna.estado)\n",
        "print(reyna.get_estado())\n",
        "reyna.set_estado(\"R2\")\n",
        "print(\"cambio de estado\")\n",
        "print(reyna.get_estado())\n",
        "\n",
        "# hijos \n",
        "\n",
        "# hijo = Nodo(\"F1\")\n",
        "reyna.set_hijo(None)\n",
        "print(reyna.get_hijo())\n",
        "\n"
      ],
      "metadata": {
        "colab": {
          "base_uri": "https://localhost:8080/"
        },
        "id": "hbaTO_h5OQJn",
        "outputId": "0053a41a-fc5b-4a6b-d8fb-6936a3c01b06"
      },
      "execution_count": 22,
      "outputs": [
        {
          "output_type": "stream",
          "name": "stdout",
          "text": [
            "R1\n",
            "R1\n",
            "R1\n",
            "cambio de estado\n",
            "R2\n",
            "None\n"
          ]
        }
      ]
    },
    {
      "cell_type": "code",
      "source": [
        "def busqueda_BPA_solucion(estado_inicial, solucion):\n",
        "    resuelto = False\n",
        "    nodos_visitados = []\n",
        "    nodos_frontera = []\n",
        "\n",
        "    nodo_raiz = Nodo(estado_inicial)\n",
        "    nodos_frontera.append(nodo_raiz)\n",
        "    while (not resuelto) and len(nodos_frontera) != 0:\n",
        "        nodo_actual = nodos_frontera.pop(0)\n",
        "        # extraer nodo y añadirlo a visitados\n",
        "        nodos_visitados.append(nodo_actual)\n",
        "        if nodo_actual.get_estado() == solucion:\n",
        "            # solucion encontrada\n",
        "            resuelto = True\n",
        "            return nodo_actual\n",
        "        else:\n",
        "            # expandir nodos hijo\n",
        "            estado_nodo = nodo_actual.get_estado()\n",
        "\n",
        "            # operador izquierdo\n",
        "            hijo = [estado_nodo[1], estado_nodo[0], estado_nodo[2], estado_nodo[3]]\n",
        "            hijo_izquierda = Nodo(hijo)\n",
        "            if not hijo_izquierda.en_lista(nodos_visitados) and not hijo_izquierda.en_lista(nodos_frontera):\n",
        "                nodos_frontera.append(hijo_izquierda)\n",
        "\n",
        "            # operador central\n",
        "            hijo = [estado_nodo[0], estado_nodo[2], estado_nodo[1], estado_nodo[3]]\n",
        "            hijo_centro = Nodo(hijo)\n",
        "            if not hijo_centro.en_lista(nodos_visitados) and not hijo_centro.en_lista(nodos_frontera):\n",
        "                nodos_frontera.append(hijo_centro)\n",
        "\n",
        "            # operador derecho\n",
        "            hijo = [estado_nodo[0], estado_nodo[1], estado_nodo[3], estado_nodo[2]]\n",
        "            hijo_derecha = Nodo(hijo)\n",
        "            if not hijo_derecha.en_lista(nodos_visitados) and not hijo_derecha.en_lista(nodos_frontera):\n",
        "                nodos_frontera.append(hijo_derecha)\n",
        "\n",
        "            nodo_actual.set_hijo([hijo_izquierda, hijo_centro, hijo_derecha])\n",
        "\n",
        "\n",
        "if __name__ == \"__main__\":\n",
        "    estado_inicial = [4, 3, 2, 1]\n",
        "    solucion = [1, 2, 3, 4]\n",
        "    nodo_solucion = busqueda_BPA_solucion(estado_inicial, solucion)\n",
        "    # mostrar resultado\n",
        "    resultado = []\n",
        "    nodo_actual = nodo_solucion\n",
        "    while nodo_actual.get_padre() is not None:\n",
        "        resultado.append(nodo_actual.get_estado())\n",
        "        nodo_actual = nodo_actual.get_padre()\n",
        "\n",
        "    resultado.append(estado_inicial)\n",
        "    resultado.reverse()\n",
        "    print(resultado)"
      ],
      "metadata": {
        "colab": {
          "base_uri": "https://localhost:8080/"
        },
        "id": "9D_tV0w3fhWl",
        "outputId": "0cda2013-b080-4b1a-be0d-1be4aff04973"
      },
      "execution_count": 24,
      "outputs": [
        {
          "output_type": "stream",
          "name": "stdout",
          "text": [
            "[[4, 3, 2, 1], [3, 4, 2, 1], [3, 2, 4, 1], [2, 3, 4, 1], [2, 3, 1, 4], [2, 1, 3, 4], [1, 2, 3, 4]]\n"
          ]
        }
      ]
    },
    {
      "cell_type": "markdown",
      "source": [
        "# Resolucion de ejercicio propuesta"
      ],
      "metadata": {
        "id": "cMwsB6GJWDN8"
      }
    },
    {
      "cell_type": "code",
      "source": [
        "[\n",
        " [10,9,8,7,6,5,4,3,2,1], #Estado inicial \n",
        " [#estado generados],\n",
        " [1,2,3,4,5,6,7,8,9,10], # Solucion\n",
        " ]\n",
        "\n",
        "init_state = [10,9,8,7,6,5,4,3,2,1];\n",
        "final_state = [1,2,3,4,5,6,7,8,9,10];\n",
        " busqueda_BPA_solucion(init_state, final_state):"
      ],
      "metadata": {
        "id": "O7MU5edOTSvl"
      },
      "execution_count": null,
      "outputs": []
    }
  ]
}