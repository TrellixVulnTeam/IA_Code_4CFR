{
  "nbformat": 4,
  "nbformat_minor": 0,
  "metadata": {
    "colab": {
      "name": "Busqueda primero en anchura 01.ipynb",
      "provenance": [],
      "collapsed_sections": []
    },
    "kernelspec": {
      "name": "python3",
      "display_name": "Python 3"
    },
    "language_info": {
      "name": "python"
    }
  },
  "cells": [
    {
      "cell_type": "code",
      "execution_count": 1,
      "metadata": {
        "colab": {
          "base_uri": "https://localhost:8080/"
        },
        "id": "mEs6mnYIegWA",
        "outputId": "94b07d0f-f039-446c-a1f0-8f1053ab5637"
      },
      "outputs": [
        {
          "output_type": "stream",
          "name": "stdout",
          "text": [
            "Mounted at /content/gdrive/\n"
          ]
        }
      ],
      "source": [
        "from google.colab import drive\n",
        "drive.mount('/content/gdrive/')"
      ]
    },
    {
      "cell_type": "code",
      "source": [
        "import sys\n",
        "sys.path.append('/content/gdrive/MyDrive/Colab Notebooks/SIS420/Busquedas')\n",
        "\n",
        "from Nodos import Nodo"
      ],
      "metadata": {
        "id": "8MzZ7atMhWHV"
      },
      "execution_count": 2,
      "outputs": []
    },
    {
      "cell_type": "code",
      "source": [
        "def busqueda_BPA_solucion(estado_inicial, solucion):\n",
        "    resuelto = False\n",
        "    nodos_visitados = []\n",
        "    nodos_frontera = []\n",
        "\n",
        "    nodo_raiz = Nodo(estado_inicial)\n",
        "    nodos_frontera.append(nodo_raiz)\n",
        "    while (not resuelto) and len(nodos_frontera) != 0:\n",
        "        nodo_actual = nodos_frontera.pop(0)\n",
        "        # extraer nodo y añadirlo a visitados\n",
        "        nodos_visitados.append(nodo_actual)\n",
        "        if nodo_actual.get_estado() == solucion:\n",
        "            # solucion encontrada\n",
        "            resuelto = True\n",
        "            return nodo_actual\n",
        "        else:\n",
        "            # expandir nodos hijo\n",
        "            estado_nodo = nodo_actual.get_estado()\n",
        "\n",
        "            # operador izquierdo\n",
        "            hijo = [estado_nodo[1], estado_nodo[0], estado_nodo[2], estado_nodo[3]]\n",
        "            hijo_izquierda = Nodo(hijo)\n",
        "            if not hijo_izquierda.en_lista(nodos_visitados) and not hijo_izquierda.en_lista(nodos_frontera):\n",
        "                nodos_frontera.append(hijo_izquierda)\n",
        "\n",
        "            # operador central\n",
        "            hijo = [estado_nodo[0], estado_nodo[2], estado_nodo[1], estado_nodo[3]]\n",
        "            hijo_centro = Nodo(hijo)\n",
        "            if not hijo_centro.en_lista(nodos_visitados) and not hijo_centro.en_lista(nodos_frontera):\n",
        "                nodos_frontera.append(hijo_centro)\n",
        "\n",
        "            # operador derecho\n",
        "            hijo = [estado_nodo[0], estado_nodo[1], estado_nodo[3], estado_nodo[2]]\n",
        "            hijo_derecha = Nodo(hijo)\n",
        "            if not hijo_derecha.en_lista(nodos_visitados) and not hijo_derecha.en_lista(nodos_frontera):\n",
        "                nodos_frontera.append(hijo_derecha)\n",
        "\n",
        "            nodo_actual.set_hijo([hijo_izquierda, hijo_centro, hijo_derecha])\n",
        "\n",
        "\n",
        "if __name__ == \"__main__\":\n",
        "    estado_inicial = [4, 3, 2, 1]\n",
        "    solucion = [1, 2, 3, 4]\n",
        "    nodo_solucion = busqueda_BPA_solucion(estado_inicial, solucion)\n",
        "    # mostrar resultado\n",
        "    resultado = []\n",
        "    nodo_actual = nodo_solucion\n",
        "    while nodo_actual.get_padre() is not None:\n",
        "        resultado.append(nodo_actual.get_estado())\n",
        "        nodo_actual = nodo_actual.get_padre()\n",
        "\n",
        "    resultado.append(estado_inicial)\n",
        "    resultado.reverse()\n",
        "    print(resultado)"
      ],
      "metadata": {
        "colab": {
          "base_uri": "https://localhost:8080/"
        },
        "id": "9D_tV0w3fhWl",
        "outputId": "db3c1616-117d-4bca-e1ba-163fc7e857bd"
      },
      "execution_count": 5,
      "outputs": [
        {
          "output_type": "stream",
          "name": "stdout",
          "text": [
            "[[4, 3, 2, 1], [3, 4, 2, 1], [3, 2, 4, 1], [2, 3, 4, 1], [2, 3, 1, 4], [2, 1, 3, 4], [1, 2, 3, 4]]\n"
          ]
        }
      ]
    }
  ]
}