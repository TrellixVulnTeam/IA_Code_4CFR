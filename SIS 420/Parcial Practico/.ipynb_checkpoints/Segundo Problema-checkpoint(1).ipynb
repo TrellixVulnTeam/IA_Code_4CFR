{
 "cells": [
  {
   "cell_type": "markdown",
   "metadata": {},
   "source": [
    "# TORRES DE HANOI\n",
    "###  Construir un agente que resuelva el problema de las torres de Hanoi para 3 discos, utilizando cualquier técnica de las búsquedas revisadas."
   ]
  },
  {
   "cell_type": "markdown",
   "metadata": {},
   "source": [
    "# Primero el Mejor (Best-First)\n",
    "### Este algoritmo, combina las ventajas de los algoritmos primero en profundidad y primero en amplitud. Sigue un sendero a la vez, pero puede cambiarse a otro sendero que parece más prometedor que el que está siguiendo.\n",
    "\n",
    "### En este sentido, puede considerarse que es un algoritmo que realiza su proceso de búsqueda en un grafo de tipo O, ya que todos sus ramales representan una alternativa de solución."
   ]
  },
  {
   "cell_type": "markdown",
   "metadata": {},
   "source": [
    "# Enfoque para escoger el Algoritmo\n",
    "#### El Enfoque  para escoger el algoritmo como se dice en la definicion anterior  donde \"todos sus ramales representan un alternativa de solucion\" ya que hay  muchas maneras de resolver el problema unas mas eficientes que otras entonces partiendo de esa primicia, se tiene como enfoque aprovechar las alternativas de solucion para resolver el problema de las Torres de Hanoi, donde generaremos muchos estados donde buscaremos el estados final o resultado "
   ]
  },
  {
   "cell_type": "markdown",
   "metadata": {},
   "source": [
    "## Importamos Librerias que Utilizaremos math, time"
   ]
  },
  {
   "cell_type": "code",
   "execution_count": 1,
   "metadata": {},
   "outputs": [],
   "source": [
    "import math\n",
    "import time"
   ]
  },
  {
   "cell_type": "markdown",
   "metadata": {},
   "source": [
    "## Metodo PrimeroMejor(Numero_de_Discos)"
   ]
  },
  {
   "cell_type": "code",
   "execution_count": 4,
   "metadata": {},
   "outputs": [],
   "source": [
    "# Busqueda Primero Mejor\n",
    "def PrimeroMejor(Numero_de_Discos):\n",
    "    # Valores de cada pivote\n",
    "    pivote_1 = pivote_2 = pivote_3 = 0\n",
    "\n",
    "    # Lista para almacenar los estados\n",
    "    Colecciones_Estados = []\n",
    "\n",
    "    # lista utilizada para guardar las acciones que hemos realizado para cada elemento en la lista anterior, \n",
    "    # para que podamos saber. El tamaño de esta lista \n",
    "    Rastrear_Coleccion = []\n",
    "\n",
    "    # Esta lista es para almacenar los estados que ya hemos encontrado, para que no entremos en un ciclo infinito\n",
    "    Estados_Visitados = []\n",
    "\n",
    "    # variables temporales para almacenar los pasos para el estado actual y el siguiente estado\n",
    "    Camino_A_Estado_Actual = Camino_Al_Siguiente_Estado = []\n",
    "\n",
    "    # Variable temporal para almacenar el valor del disco que se mueve\n",
    "    Valor_Disco = 0\n",
    "\n",
    "    # Variable temporal para almacenar el estado actual y el siguiente estado adyacente\n",
    "    Estado_Actual = Nuevo_Estado = []\n",
    "\n",
    "    # Variable temporal para almacenar el disco que se mueve\n",
    "    Disco_Arriba = 0\n",
    "\n",
    "    # Variables Booleanas\n",
    "    Estado_Encontrado_Anteriormente = Solucion_Encontrada = False\n",
    "\n",
    "    # Encuentra el valor total de todos los discos en funcion del numero de discos\n",
    "    Valor_Discos = int(math.pow(2, Numero_de_Discos + 1)) - 2\n",
    "\n",
    "    # Estado inicial donde todos los discos estan en Pivote1.\n",
    "    Estado_Actual = [0, Valor_Discos, 0, 0]\n",
    "\n",
    "    # Insertamos el estado inicial en la lista Colecciones_Estados\n",
    "    Colecciones_Estados.append(Estado_Actual)\n",
    "    Rastrear_Coleccion.append(Camino_A_Estado_Actual)\n",
    "    Estados_Visitados.append(Estado_Actual)\n",
    "\n",
    "    # Bucle para encontrar la solucion o estado final\n",
    "    while Solucion_Encontrada == False and len(Colecciones_Estados) > 0:\n",
    "        \n",
    "        # Aqui se obtiene el mejor estado en la Pila\n",
    "        Mejor_Item = - 1\n",
    "        \n",
    "        for item in range(0,len(Colecciones_Estados)):\n",
    "            Estado = Colecciones_Estados[item]\n",
    "        \n",
    "            for d in range(Numero_de_Discos-1, 0, -1):\n",
    "                Valor_Solucion_Parcial = math.pow(2, d+1)-2\n",
    "            \n",
    "                if ((Numero_de_Discos+d)%2 == 0):\n",
    "                    Pivote_Solucion_Parcial = 3\n",
    "                else:\n",
    "                    Pivote_Solucion_Parcial = 2\n",
    "                if (Estado[Pivote_Solucion_Parcial] == Valor_Solucion_Parcial):\n",
    "                    Mejor_Item = item\n",
    "                    break\n",
    "                    \n",
    "            if (Mejor_Item > -1):\n",
    "                break\n",
    "                \n",
    "        if Mejor_Item == -1:\n",
    "            Mejor_Item = 0\n",
    "\n",
    "        Estado_Actual = Colecciones_Estados.pop(Mejor_Item)\n",
    "        \n",
    "        # Obtenga los pasos de la lista Colecciones_Estados\n",
    "        Camino_A_Estado_Actual = Rastrear_Coleccion.pop(Mejor_Item)\n",
    "        \n",
    "        # Bucle todas las clavijas para el movimiento del disco\n",
    "        for Pivotes in range(3, 0, -1):\n",
    "            \n",
    "            # si la clavija no tiene disco pasamos a la siguiente clavija\n",
    "            if (Estado_Actual[Pivotes] == 0):\n",
    "                continue\n",
    "            \n",
    "            # Bucle para todas las clavijas destino para el disco\n",
    "            for Pivotes_Destino in range(3, 0, -1):\n",
    "                \n",
    "                # Pivotes y Pivotes_Destino no pueden ser iguales\n",
    "                if (Solucion_Encontrada == True or Pivotes == Pivotes_Destino):\n",
    "                    continue\n",
    "                \n",
    "                # Bucle para identificar el tamaño de los discos de Pequeño a Grande\n",
    "                for Tamaño_Disco in range(1, Numero_de_Discos + 1):\n",
    "                    Valor_Disco = int(math.pow(2, Tamaño_Disco))\n",
    "                \n",
    "                    # Utilizando el operador Y Bitwise, para que encuentre el disco en la parte superior de la clavija\n",
    "                    if ((Estado_Actual[Pivotes] & Valor_Disco) == Valor_Disco):\n",
    "                        Disco_Arriba = Tamaño_Disco\n",
    "                        break\n",
    "                        \n",
    "        # La clavija de destino debe estar vacia o el disco superior debe ser mas grande que el disco que se esta moviendo\n",
    "                if (Estado_Actual[Pivotes_Destino] == 0 or Estado_Actual[Pivotes_Destino] % Valor_Disco == 0):\n",
    "                \n",
    "                    # Los siguientes pasos mueven el disco de origen a destino y crean un nuevo estado fuera del estado actual\n",
    "                    Nuevo_Estado = list(Estado_Actual)\n",
    "                    Nuevo_Estado[Pivotes] = Nuevo_Estado[Pivotes] - Valor_Disco\n",
    "                    Nuevo_Estado[Pivotes_Destino] = Nuevo_Estado[Pivotes_Destino] + Valor_Disco\n",
    "                    Siguiente_Paso = [Disco_Arriba, Pivotes, Pivotes_Destino]\n",
    "                    Camino_Al_Siguiente_Estado = list(Camino_A_Estado_Actual)\n",
    "                    Camino_Al_Siguiente_Estado.append(Siguiente_Paso)\n",
    "                \n",
    "        # aqui comprobamos si el nuevo estado es el estado final que estamos buscando (todos los discos en la clavija 3)\n",
    "                    if (Nuevo_Estado[3] == Valor_Discos):\n",
    "                        Pasos = 1\n",
    "                        Salida = \"\"\n",
    "                        \n",
    "                        for Avanze in Camino_Al_Siguiente_Estado:\n",
    "                            Salida = Salida + \"Paso [\" + str(Pasos) + \"]--> Mover Disco \" + str(Avanze[0]) + \":\\n          desde clavija \" + str(\n",
    "                                Avanze[1]) + \" a clavija \" + str(Avanze[2]) + \"\\n\"\n",
    "                            Pasos = Pasos + 1\n",
    "                        print(Salida)\n",
    "                        Solucion_Encontrada = True\n",
    "                        return\n",
    "                    \n",
    "                    else: # si no se encuentra la solucion\n",
    "                        # Aqui verificamos si el nuevo estado no se ha descubierto antes\n",
    "                        Estado_Encontrado_Anteriormente = False\n",
    "                        \n",
    "                        for Estado_Visitado in Estados_Visitados:\n",
    "                            if (Estado_Visitado[1] == Nuevo_Estado[1] and Estado_Visitado[2] == Nuevo_Estado[2] and Estado_Visitado[3] == Nuevo_Estado[3]):\n",
    "                                Estado_Encontrado_Anteriormente = True\n",
    "                                break\n",
    "                                \n",
    "                    # si este es el nuevo estado que descubrimos antes, luego lo agregamos a la lista Colecciones_Estados\n",
    "                        if Estado_Encontrado_Anteriormente == False:\n",
    "                            Colecciones_Estados.append(Nuevo_Estado)\n",
    "                            Rastrear_Coleccion.append(Camino_Al_Siguiente_Estado)\n",
    "                            Estados_Visitados.append(Nuevo_Estado)"
   ]
  },
  {
   "cell_type": "markdown",
   "metadata": {},
   "source": [
    "## Ejecutamos el Metodo PrimeroMejor(Numero_de_Discos)"
   ]
  },
  {
   "cell_type": "code",
   "execution_count": 6,
   "metadata": {},
   "outputs": [
    {
     "name": "stdout",
     "output_type": "stream",
     "text": [
      "Resolviendo por el metodo Busqueda Primero Mejor :\n",
      "Paso [1]--> Mover Disco 1:\n",
      "          desde clavija 1 a clavija 3\n",
      "Paso [2]--> Mover Disco 2:\n",
      "          desde clavija 1 a clavija 2\n",
      "Paso [3]--> Mover Disco 1:\n",
      "          desde clavija 3 a clavija 2\n",
      "Paso [4]--> Mover Disco 3:\n",
      "          desde clavija 1 a clavija 3\n",
      "Paso [5]--> Mover Disco 1:\n",
      "          desde clavija 2 a clavija 1\n",
      "Paso [6]--> Mover Disco 2:\n",
      "          desde clavija 2 a clavija 3\n",
      "Paso [7]--> Mover Disco 1:\n",
      "          desde clavija 1 a clavija 3\n",
      "\n",
      "\n",
      "El tiempo de ejecucion del Algoritmo es :  0.0  segundos\n"
     ]
    }
   ],
   "source": [
    "if __name__ == \"__main__\":\n",
    "    #Para Cambiar la Cantidad de discos\n",
    "    Numero_de_Discos = 3\n",
    "    Inicio_Tiempo =time.time()\n",
    "    print (\"Resolviendo por el metodo Busqueda Primero Mejor :\")\n",
    "    PrimeroMejor(Numero_de_Discos)\n",
    "    Tiempo_Ejecucion=time.time() - Inicio_Tiempo\n",
    "    print(\"\\nEl tiempo de ejecucion del Algoritmo es : \", round(Tiempo_Ejecucion,6),\" segundos\")"
   ]
  }
 ],
 "metadata": {
  "kernelspec": {
   "display_name": "Python 3",
   "language": "python",
   "name": "python3"
  },
  "language_info": {
   "codemirror_mode": {
    "name": "ipython",
    "version": 3
   },
   "file_extension": ".py",
   "mimetype": "text/x-python",
   "name": "python",
   "nbconvert_exporter": "python",
   "pygments_lexer": "ipython3",
   "version": "3.7.4"
  }
 },
 "nbformat": 4,
 "nbformat_minor": 2
}
