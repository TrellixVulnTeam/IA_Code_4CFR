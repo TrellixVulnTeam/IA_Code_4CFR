{
 "cells": [
  {
   "cell_type": "markdown",
   "metadata": {},
   "source": [
    "### Estudiante : Tumiri Huanca Alex\n",
    "### Carrera :Ing.en Ciencias de la Computacion\n",
    "\n",
    "# PROBLEMA DEL LABERINTO\n",
    "## Resuelva el problema del laberinto considerando que no se puede repetir dos movimientos iguales consecutivos, por ejemplo: no se puede avanzar dos veces seguidas horizontalmente, o verticalmente o en diagonal."
   ]
  },
  {
   "cell_type": "markdown",
   "metadata": {},
   "source": [
    "## Algoritmo A*\n",
    "#### El problema de algunos algoritmos de búsqueda en grafos informados, como puede ser el algoritmo voraz, es que se guían en exclusiva por la función heurística, la cual puede no indicar el camino de coste más bajo, o por el coste real de desplazarse de un nodo a otro (como los algoritmos de escalada), pudiéndose dar el caso de que sea necesario realizar un movimiento de coste mayor para alcanzar la solución. Es por ello bastante intuitivo el hecho de que un buen algoritmo de búsqueda informada debería tener en cuenta ambos factores, el valor heurístico de los nodos y el coste real del recorrido."
   ]
  },
  {
   "cell_type": "markdown",
   "metadata": {},
   "source": [
    "# Enfoque para escoger el Algoritmo\n",
    "#### El Enfoque  para escoger el algoritmo como se dice en la definicion anterior  donde \"Es por ello bastante intuitivo el hecho de que un buen algoritmo de búsqueda informada debería tener en cuenta ambos factores,\" ya que hay  que considerar mas factores con los cuales medimos el Coste F(n) eso no beneficia ya que el algoritmo sera mas eficiente, entonces partiendo de esa primicia, se tiene como enfoque aprovechar las la eficiencia y los factores para calcular el coste de solucion para resolver el problema del Laberinto  donde generaremos los estados necesarios donde buscaremos el estados final o resultado "
   ]
  },
  {
   "cell_type": "markdown",
   "metadata": {},
   "source": [
    "## Clase Node()"
   ]
  },
  {
   "cell_type": "code",
   "execution_count": 18,
   "metadata": {},
   "outputs": [],
   "source": [
    "class Node():\n",
    "    \"\"\"A node class for A* Pathfinding\"\"\"\n",
    "\n",
    "    def __init__(self, Padre=None, Posicion=None, Estado=None):\n",
    "        self.Padre = Padre\n",
    "        self.Posicion = Posicion\n",
    "        self.Estado =Estado\n",
    "\n",
    "        self.g = 0\n",
    "        self.h = 0\n",
    "        self.f = 0\n",
    "    #verificamos la posicion\n",
    "    def __eq__(self, other):\n",
    "        return self.Posicion == other.Posicion"
   ]
  },
  {
   "cell_type": "markdown",
   "metadata": {},
   "source": [
    "## Metodo astar(maze, start, end)"
   ]
  },
  {
   "cell_type": "code",
   "execution_count": 21,
   "metadata": {},
   "outputs": [],
   "source": [
    "def astar(maze, start, end):\n",
    "    \"\"\"Devuelve una lista de tuplas como una ruta desde el Estado Inicial dado hasta el Estado final dado \"\"\"\n",
    "\n",
    "    # Creamos el Principio y no final\n",
    "    start_node = Node(None, start)\n",
    "    start_node.g = start_node.h = start_node.f = 0\n",
    "    end_node = Node(None, end)\n",
    "    end_node.g = end_node.h = end_node.f = 0\n",
    "    \n",
    "\n",
    "    # Inicializar tanto la lista abierta como la cerrada\n",
    "    open_list = []\n",
    "    closed_list = []\n",
    "    listEstado=[]\n",
    "    \n",
    "    # Agregar el nodo de inicio\n",
    "    open_list.append(start_node)\n",
    "\n",
    "    # Bucle encontrar el final\n",
    "    while len(open_list) > 0:\n",
    "\n",
    "        #Obtenemos el nodo actual\n",
    "        current_node = open_list[0]\n",
    "        current_index = 0\n",
    "        for index, item in enumerate(open_list):\n",
    "                if item.f < current_node.f and item.Estado != current_node.Estado : \n",
    "                    current_node = item\n",
    "                    current_index = index\n",
    "                \n",
    "\n",
    "        # Quitamos actual de la lista abierta y agregamos a la lista cerrada\n",
    "        \n",
    "        open_list.pop(current_index)\n",
    "        closed_list.append(current_node)\n",
    "\n",
    "        # Si se encuentra la meta\n",
    "        if current_node == end_node:\n",
    "            path = []\n",
    "            current = current_node\n",
    "            while current is not None:\n",
    "                path.append(current.Posicion)\n",
    "                current = current.Padre\n",
    "            return path[::-1] # Return reversed path\n",
    "\n",
    "        # Generamos los hijos\n",
    "        children = []\n",
    "        for new_position in [(0, -1), (0, 1), (-1, 0), (1, 0), (-1, -1), (-1, 1), (1, -1), (1, 1)]: # Adjacent squares\n",
    "\n",
    "            # Obtenemos la posicion del nodo\n",
    "            node_position = (current_node.Posicion[0] + new_position[0], current_node.Posicion[1] + new_position[1])\n",
    "            \n",
    "            # Nos aseguramos si esta adentro del rango\n",
    "            if node_position[0] > (len(maze) - 1) or node_position[0] < 0 or node_position[1] > (len(maze[len(maze)-1]) -1) or node_position[1] < 0:\n",
    "                continue\n",
    "\n",
    "            # Aqui nos aseguramos si el terreno sea transitable\n",
    "            if maze[node_position[0]][node_position[1]] != 0:\n",
    "                continue\n",
    "\n",
    "            # Creamos un nuevo nodo\n",
    "            new_node = Node(current_node, node_position, new_position)\n",
    "            \n",
    "            # Agregamos nuestro nuevo nodo a la lista Hijos(children)\n",
    "            children.append(new_node)\n",
    "\n",
    "        # recorremos la lista Hijos\n",
    "        for child in children:\n",
    "\n",
    "            # El hijo se encuentra en la lista cerrada\n",
    "            for closed_child in closed_list:\n",
    "                if child == closed_child:\n",
    "                    continue\n",
    "\n",
    "            # Creamos los valores de  f, g, h \n",
    "            if(current_node.Estado == child.Estado):\n",
    "                child.g = current_node.g + 100\n",
    "                \n",
    "            if(current_node.Estado != child.Estado):\n",
    "                child.g = current_node.g + 1\n",
    "                \n",
    "            child.h = ((child.Posicion[0] - end_node.Posicion[0]) ** 2) + ((child.Posicion[1] - end_node.Posicion[1]) ** 2)\n",
    "            child.f = child.g + child.h\n",
    "\n",
    "            # El hijo se encuentra en la lista abierta\n",
    "            for open_node in open_list:\n",
    "                if child == open_node and child.g > open_node.g:\n",
    "                    continue\n",
    "\n",
    "            # Agregamos a el hijo a la lista abierta\n",
    "            open_list.append(child)\n",
    "            \n",
    "\n"
   ]
  },
  {
   "cell_type": "markdown",
   "metadata": {},
   "source": [
    "## Ejecutamos el Metodo astar(maze, start, end)"
   ]
  },
  {
   "cell_type": "code",
   "execution_count": 22,
   "metadata": {},
   "outputs": [
    {
     "name": "stdout",
     "output_type": "stream",
     "text": [
      "[Ø]0█0█0██0█\n",
      "█→→0█0000█\n",
      "█00→████0█\n",
      "000→00000█\n",
      "0000→→000█\n",
      "███000→→0█\n",
      "█000█00<£>0█\n",
      "█000█0000█\n",
      "███0██000█\n",
      "[(0, 0), (1, 1), (2, 1), (3, 2), (3, 3), (4, 4), (5, 4), (6, 5), (7, 5), (7, 6)]\n"
     ]
    }
   ],
   "source": [
    "def main():\n",
    "\n",
    "    maze = [[0, 0, '█', 0, '█', 0, '█', '█', 0, '█'],\n",
    "            ['█', 0, 0, 0, '█', 0, 0, 0, 0, '█'],\n",
    "            ['█', 0, 0, 0, '█', '█', '█', '█', 0, '█'],\n",
    "            [0, 0, 0, 0, 0, 0, 0, 0, 0, '█'],\n",
    "            [0, 0, 0, 0, 0, 0, 0, 0, 0, '█'],\n",
    "            ['█', '█', '█', 0, 0, 0, 0, 0, 0, '█'],\n",
    "            ['█', 0, 0, 0, '█', 0, 0, 0, 0, '█'],\n",
    "            ['█', 0, 0, 0, '█', 0, 0, 0, 0, '█'],\n",
    "            ['█', '█','█', 0, '█','█', 0, 0, 0, '█']]\n",
    "\n",
    "    start = (0, 0)\n",
    "    end = (7, 6)\n",
    "    path = astar(maze, start, end)\n",
    "    for y in range(len(maze)):\n",
    "        for x in range(len(maze[y])):\n",
    "            if (x, y) == start:\n",
    "                print('[Ø]', end='')\n",
    "            elif (x, y) == end:\n",
    "                print('<£>', end='')\n",
    "            elif (x, y) in path:\n",
    "                print(\"→\", end='')\n",
    "\n",
    "            else:\n",
    "                print(maze[y][x], end='')\n",
    "        print()\n",
    "    \n",
    "    print(path)\n",
    "\n",
    "if __name__ == '__main__':\n",
    "    main()"
   ]
  }
 ],
 "metadata": {
  "kernelspec": {
   "display_name": "Python 3",
   "language": "python",
   "name": "python3"
  },
  "language_info": {
   "codemirror_mode": {
    "name": "ipython",
    "version": 3
   },
   "file_extension": ".py",
   "mimetype": "text/x-python",
   "name": "python",
   "nbconvert_exporter": "python",
   "pygments_lexer": "ipython3",
   "version": "3.7.4"
  }
 },
 "nbformat": 4,
 "nbformat_minor": 2
}
